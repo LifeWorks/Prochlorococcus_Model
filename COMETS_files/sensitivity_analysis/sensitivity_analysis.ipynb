{
 "cells": [
  {
   "cell_type": "code",
   "execution_count": 2,
   "metadata": {
    "ExecuteTime": {
     "end_time": "2020-12-15T09:30:48.353507Z",
     "start_time": "2020-12-15T09:30:43.130260Z"
    }
   },
   "outputs": [],
   "source": [
    "import pandas as pd\n",
    "import matplotlib.pyplot as plt\n",
    "import cobra\n",
    "import numpy as np\n",
    "import seaborn as sns\n"
   ]
  },
  {
   "cell_type": "code",
   "execution_count": 3,
   "metadata": {
    "ExecuteTime": {
     "end_time": "2020-12-15T09:30:48.389369Z",
     "start_time": "2020-12-15T09:30:48.353507Z"
    }
   },
   "outputs": [
    {
     "data": {
      "text/plain": [
       "<function seaborn.palettes.hls_palette(n_colors=6, h=0.01, l=0.6, s=0.65, as_cmap=False)>"
      ]
     },
     "execution_count": 3,
     "metadata": {},
     "output_type": "execute_result"
    }
   ],
   "source": [
    "sns.hls_palette\n"
   ]
  },
  {
   "cell_type": "markdown",
   "metadata": {},
   "source": [
    "# Estimate Vmax from the literature"
   ]
  },
  {
   "cell_type": "code",
   "execution_count": 4,
   "metadata": {
    "ExecuteTime": {
     "end_time": "2020-12-15T09:30:48.407858Z",
     "start_time": "2020-12-15T09:30:48.389369Z"
    }
   },
   "outputs": [
    {
     "name": "stdout",
     "output_type": "stream",
     "text": [
      "0.6628787878787878\n"
     ]
    }
   ],
   "source": [
    "# Best fit Vmax ammonium\n",
    "Vmax_ammonium_raw = 1.05*1e-9 # umol/cell/day\n",
    "Vmax_ammonium_day = Vmax_ammonium_raw/(66*1e-15) #umol/gDW/day \n",
    "Vmax_ammonium_hour = Vmax_ammonium_day/24 #umol/gDW/h\n",
    "Vmax_ammonium = Vmax_ammonium_hour*1e-3 # mmol/gDW/h\n",
    "print(Vmax_ammonium)\n"
   ]
  },
  {
   "cell_type": "code",
   "execution_count": 5,
   "metadata": {
    "ExecuteTime": {
     "end_time": "2020-12-15T09:30:48.425766Z",
     "start_time": "2020-12-15T09:30:48.407858Z"
    }
   },
   "outputs": [
    {
     "name": "stdout",
     "output_type": "stream",
     "text": [
      "0.06944444444444445\n"
     ]
    }
   ],
   "source": [
    "# Literature value Vmax ammonium\n",
    "Vmax_ammonium_raw = 0.11*1e-9 # umol/cell/day\n",
    "Vmax_ammonium_day = Vmax_ammonium_raw/(66*1e-15) #umol/gDW/day \n",
    "Vmax_ammonium_hour = Vmax_ammonium_day/24 #umol/gDW/h\n",
    "Vmax_ammonium = Vmax_ammonium_hour*1e-3 # mmol/gDW/h\n",
    "print(Vmax_ammonium)\n"
   ]
  },
  {
   "cell_type": "code",
   "execution_count": 6,
   "metadata": {
    "ExecuteTime": {
     "end_time": "2020-12-15T09:30:48.441726Z",
     "start_time": "2020-12-15T09:30:48.425766Z"
    }
   },
   "outputs": [
    {
     "name": "stdout",
     "output_type": "stream",
     "text": [
      "Ammonium Vmax:  0.17929888507718697\n"
     ]
    }
   ],
   "source": [
    "# Calculate Vmax\n",
    "N_growth_yield = 0.1166 #gDW/mmol NH3\n",
    "Km_ammonium = 0.35*1e-3 #mM\n",
    "observed_growth_rate = 0.4 #/day\n",
    "observed_death_rate = 0.1 #/day\n",
    "gross_growth_rate = observed_death_rate + observed_growth_rate\n",
    "gross_gr_hour = gross_growth_rate/24\n",
    "N_conc = 0.1 #mM\n",
    "\n",
    "def Vmax(Km, conc, N_yield, growth_rate):\n",
    "    return (growth_rate/N_yield)*(Km+conc)/conc\n",
    "\n",
    "print(\"Ammonium Vmax: \", Vmax(Km_ammonium, N_conc, N_growth_yield, gross_gr_hour))\n",
    "#print(\"Ammonium Vmax: \", Vmax(Km_ammonium, N_conc, N_growth_yield, observed_growth_rate/24))\n"
   ]
  },
  {
   "cell_type": "code",
   "execution_count": null,
   "metadata": {},
   "outputs": [],
   "source": []
  },
  {
   "cell_type": "markdown",
   "metadata": {},
   "source": [
    "# Import model and identify yields"
   ]
  },
  {
   "cell_type": "code",
   "execution_count": 7,
   "metadata": {
    "ExecuteTime": {
     "end_time": "2020-12-15T09:30:49.550482Z",
     "start_time": "2020-12-15T09:30:48.441726Z"
    }
   },
   "outputs": [],
   "source": [
    "# model_fn = \"C:\\\\Users\\\\snorres\\\\git\\\\iSO595\\\\Model_files\\\\iSO595v6.xml\"\n",
    "#model_fn = \"C:/Users/snorres/git/MarinePro/Models/Prochlorococcus/iSO595/Model_files/iSO595v4py.xml\"\n",
    "model_fn = \"../../Model_files/iSO595v7.xml\"\n",
    "model = cobra.io.read_sbml_model(model_fn)\n"
   ]
  },
  {
   "cell_type": "code",
   "execution_count": 15,
   "metadata": {
    "ExecuteTime": {
     "end_time": "2020-12-15T09:30:49.740497Z",
     "start_time": "2020-12-15T09:30:49.553654Z"
    }
   },
   "outputs": [
    {
     "name": "stdout",
     "output_type": "stream",
     "text": [
      "Objective\n",
      "=========\n",
      "1.0 BIOMASS = 0.020413935649494813\n",
      "\n",
      "Uptake\n",
      "------\n",
      "         Metabolite             Reaction      Flux  C-Number  C-Flux\n",
      "         Ammonia[e]            AmmoniaEX    0.1773         0   0.00%\n",
      "         Cadmium[e]            CadmiumEX 9.853E-07         0   0.00%\n",
      "  Calcium_cation[e]            CalciumEX 0.0005464         0   0.00%\n",
      "    Chloride_ion[e]           ChlorideEX  0.004857         0   0.00%\n",
      "      Cobalt_ion[e]             CobaltEX 3.168E-05         0   0.00%\n",
      "          Copper[e]             CopperEX 1.783E-06         0   0.00%\n",
      "  Orthophosphate[e] FAKEOrthophosphateEX  0.007416         0   0.00%\n",
      "Hydrogen_sulfide[e]                H2SEX   0.01044         0   0.00%\n",
      "            HCO3[e]            HCO3EXcar     1.107         1 100.00%\n",
      "             Fe2[e]               IronEX 6.597E-05         0   0.00%\n",
      "          Photon[e]              LightEX      19.4         0   0.00%\n",
      "Magnesium_cation[e]          MagnesiumEX  0.003244         0   0.00%\n",
      "      Molybdenum[e]         MolybdenumEX 1.408E-07         0   0.00%\n",
      "               K[e]          PotassiumEX  0.001943         0   0.00%\n",
      "        Selenate[e]           SelenateEX  0.001559         0   0.00%\n",
      "   Sodium_cation[e]             SodiumEX  0.009106         0   0.00%\n",
      "Strontium_cation[e]          StrontiumEX 2.346E-05         0   0.00%\n",
      "         Sulfate[e]            SulfateEX  0.005086         0   0.00%\n",
      "             Zn2[e]               ZincEX 3.753E-06         0   0.00%\n",
      "\n",
      "Secretion\n",
      "---------\n",
      "                               Metabolite                            Reaction       Flux  C-Number C-Flux\n",
      "                               biomass[e]                           BiomassEX   -0.02041         0  0.00%\n",
      "                                   CO2[e]                               CO2EX   -0.06941         1 90.24%\n",
      "                                    CO[e]                                COEX -1.737E-07         1  0.00%\n",
      "                        Glycolaldehyde[e]                    GlycolaldehydeEX -0.0001231         2  0.32%\n",
      "                     Hydrogen_peroxide[e]                              H2O2EX  -0.002271         0  0.00%\n",
      "                                   H2O[e]                               H2OEX    -0.8912         0  0.00%\n",
      "                                     H[e]                                 HEX     -3.764         0  0.00%\n",
      "                              Methanol[e]                          MethanolEX -9.507E-05         1  0.12%\n",
      "                                Oxygen[e]                                O2EX     -1.193         0  0.00%\n",
      "S_Adenosyl_4_methylthio_2_oxobutanoate[e] SAdenosyl4methylthio2oxobutanoateEX -9.507E-05        15  1.85%\n",
      "              S_Methyl_5_thio_D_ribose[e]               SMethyl5thioDriboseEX -0.0009297         6  7.25%\n",
      "                                  tRNA[e]                              tRNAEX -1.065E-05        15  0.21%\n",
      "\n",
      "0.0010522647242008109\n"
     ]
    }
   ],
   "source": [
    "with model:\n",
    "    model.reactions.LightEX.lower_bound = -19.4\n",
    "    model.optimize()\n",
    "    # print(model.summary(threshold = 1e-5))\n",
    "    print(model.summary())\n",
    "    light_yield = -model.reactions.BiomassEX.flux/model.reactions.LightEX.flux\n",
    "    print(light_yield)\n"
   ]
  },
  {
   "cell_type": "code",
   "execution_count": 16,
   "metadata": {
    "ExecuteTime": {
     "end_time": "2020-12-15T09:30:49.897841Z",
     "start_time": "2020-12-15T09:30:49.743814Z"
    }
   },
   "outputs": [
    {
     "name": "stdout",
     "output_type": "stream",
     "text": [
      "Objective\n",
      "=========\n",
      "1.0 BIOMASS = 0.09846248800237414\n",
      "\n",
      "Uptake\n",
      "------\n",
      "         Metabolite             Reaction      Flux  C-Number  C-Flux\n",
      "         Ammonia[e]            AmmoniaEX    0.8551         0   0.00%\n",
      "         Cadmium[e]            CadmiumEX 4.752E-06         0   0.00%\n",
      "  Calcium_cation[e]            CalciumEX  0.002635         0   0.00%\n",
      "    Chloride_ion[e]           ChlorideEX   0.02343         0   0.00%\n",
      "      Cobalt_ion[e]             CobaltEX 0.0001528         0   0.00%\n",
      "          Copper[e]             CopperEX 8.599E-06         0   0.00%\n",
      "  Orthophosphate[e] FAKEOrthophosphateEX   0.03577         0   0.00%\n",
      "Hydrogen_sulfide[e]                H2SEX   0.05038         0   0.00%\n",
      "            HCO3[e]            HCO3EXcar     5.342         1 100.00%\n",
      "             Fe2[e]               IronEX 0.0003182         0   0.00%\n",
      "          Photon[e]              LightEX     72.47         0   0.00%\n",
      "Magnesium_cation[e]          MagnesiumEX   0.01565         0   0.00%\n",
      "      Molybdenum[e]         MolybdenumEX 6.789E-07         0   0.00%\n",
      "               K[e]          PotassiumEX   0.00937         0   0.00%\n",
      "        Selenate[e]           SelenateEX  0.007518         0   0.00%\n",
      "   Sodium_cation[e]             SodiumEX   0.04392         0   0.00%\n",
      "Strontium_cation[e]          StrontiumEX 0.0001131         0   0.00%\n",
      "         Sulfate[e]            SulfateEX   0.02453         0   0.00%\n",
      "             Zn2[e]               ZincEX  1.81E-05         0   0.00%\n",
      "\n",
      "Secretion\n",
      "---------\n",
      "                               Metabolite                            Reaction       Flux  C-Number C-Flux\n",
      "                               biomass[e]                           BiomassEX   -0.09846         0  0.00%\n",
      "                                   CO2[e]                               CO2EX    -0.3348         1 90.24%\n",
      "                                    CO[e]                                COEX -8.377E-07         1  0.00%\n",
      "                        Glycolaldehyde[e]                    GlycolaldehydeEX -0.0005939         2  0.32%\n",
      "                     Hydrogen_peroxide[e]                              H2O2EX   -0.01095         0  0.00%\n",
      "                                   H2O[e]                               H2OEX     -4.299         0  0.00%\n",
      "                                     H[e]                                 HEX     -12.88         0  0.00%\n",
      "                              Methanol[e]                          MethanolEX -0.0004585         1  0.12%\n",
      "                                Oxygen[e]                                O2EX     -5.753         0  0.00%\n",
      "S_Adenosyl_4_methylthio_2_oxobutanoate[e] SAdenosyl4methylthio2oxobutanoateEX -0.0004585        15  1.85%\n",
      "              S_Methyl_5_thio_D_ribose[e]               SMethyl5thioDriboseEX  -0.004484         6  7.25%\n",
      "                                  tRNA[e]                              tRNAEX -5.135E-05        15  0.21%\n",
      "\n",
      "0.11514077621502737\n"
     ]
    }
   ],
   "source": [
    "with model:\n",
    "    model.reactions.LightEX.lower_bound = -100\n",
    "    model.reactions.AmmoniaEX.lower_bound = -10\n",
    "    model.reactions.CO2EX.bounds = (0, 0.818)\n",
    "    model.optimize()\n",
    "    # print(model.summary(threshold = 1e-5))\n",
    "    print(model.summary())\n",
    "    ammonium_yield = -model.reactions.BiomassEX.flux/model.reactions.AmmoniaEX.flux\n",
    "    print(ammonium_yield)\n"
   ]
  },
  {
   "cell_type": "code",
   "execution_count": 18,
   "metadata": {
    "ExecuteTime": {
     "end_time": "2020-12-15T09:30:49.914741Z",
     "start_time": "2020-12-15T09:30:49.901136Z"
    }
   },
   "outputs": [
    {
     "data": {
      "text/html": [
       "\n",
       "        <table>\n",
       "            <tr>\n",
       "                <td><strong>Reaction identifier</strong></td><td>CO2EX</td>\n",
       "            </tr><tr>\n",
       "                <td><strong>Name</strong></td><td>CO2 Exchange</td>\n",
       "            </tr><tr>\n",
       "                <td><strong>Memory address</strong></td>\n",
       "                <td>0x28b870550</td>\n",
       "            </tr><tr>\n",
       "                <td><strong>Stoichiometry</strong></td>\n",
       "                <td>\n",
       "                    <p style='text-align:right'>CO2[e] <=></p>\n",
       "                    <p style='text-align:right'>CO2 <=></p>\n",
       "                </td>\n",
       "            </tr><tr>\n",
       "                <td><strong>GPR</strong></td><td></td>\n",
       "            </tr><tr>\n",
       "                <td><strong>Lower bound</strong></td><td>-1000.0</td>\n",
       "            </tr><tr>\n",
       "                <td><strong>Upper bound</strong></td><td>1000.0</td>\n",
       "            </tr>\n",
       "        </table>\n",
       "        "
      ],
      "text/plain": [
       "<Reaction CO2EX at 0x28b870550>"
      ]
     },
     "execution_count": 18,
     "metadata": {},
     "output_type": "execute_result"
    }
   ],
   "source": [
    "model.reactions.CO2EX\n"
   ]
  },
  {
   "cell_type": "markdown",
   "metadata": {},
   "source": [
    "# Define parameters for sensitivity analysis"
   ]
  },
  {
   "cell_type": "code",
   "execution_count": 19,
   "metadata": {
    "ExecuteTime": {
     "end_time": "2020-12-15T09:30:49.931319Z",
     "start_time": "2020-12-15T09:30:49.918761Z"
    }
   },
   "outputs": [],
   "source": [
    "N_growth_yield = 0.1166 #gDW/mmol NH3\n",
    "light_growth_yield = 0.00106 # gDW / mmol photons\n",
    "N_concentration = 0.1 #mM\n"
   ]
  },
  {
   "cell_type": "code",
   "execution_count": 20,
   "metadata": {
    "ExecuteTime": {
     "end_time": "2020-12-15T12:17:24.921447Z",
     "start_time": "2020-12-15T12:17:24.912449Z"
    }
   },
   "outputs": [],
   "source": [
    "def light(I, X, a_b, a_w, dz):\n",
    "    return 3600*I*a_b*(1-np.exp(-dz*(a_w+(a_b*X))))/(dz*(a_w+(a_b*X)))\n"
   ]
  },
  {
   "cell_type": "code",
   "execution_count": 21,
   "metadata": {
    "ExecuteTime": {
     "end_time": "2020-12-15T09:30:49.965064Z",
     "start_time": "2020-12-15T09:30:49.948012Z"
    }
   },
   "outputs": [],
   "source": [
    "a_b = 0.2846 #m^2/gDW\n",
    "a_w = 0.465 \n",
    "dz = 0.01 #m\n"
   ]
  },
  {
   "cell_type": "code",
   "execution_count": 22,
   "metadata": {
    "ExecuteTime": {
     "end_time": "2020-12-15T09:30:49.981647Z",
     "start_time": "2020-12-15T09:30:49.969091Z"
    }
   },
   "outputs": [],
   "source": [
    "grid_size = 1 #cm\n",
    "grid_volume_cm3 = grid_size**3 #Cubic centimeters\n",
    "grid_volume = grid_volume_cm3*1e-3 # Convert from cubic centimeters to L\n",
    "cell_weight = 66*1e-15 #g per cell (Cermak et al., 2017)\n",
    "initial_pop = 1.3e9*cell_weight*grid_volume # gDW/L\n"
   ]
  },
  {
   "cell_type": "code",
   "execution_count": 23,
   "metadata": {
    "ExecuteTime": {
     "end_time": "2020-12-15T12:18:12.487340Z",
     "start_time": "2020-12-15T12:18:12.472735Z"
    }
   },
   "outputs": [
    {
     "ename": "NameError",
     "evalue": "name 'X' is not defined",
     "output_type": "error",
     "traceback": [
      "\u001b[0;31m---------------------------------------------------------------------------\u001b[0m",
      "\u001b[0;31mNameError\u001b[0m                                 Traceback (most recent call last)",
      "Cell \u001b[0;32mIn[23], line 1\u001b[0m\n\u001b[0;32m----> 1\u001b[0m light(\u001b[38;5;241m0.04\u001b[39m, \u001b[43mX\u001b[49m, a_b, a_w, dz)\n",
      "\u001b[0;31mNameError\u001b[0m: name 'X' is not defined"
     ]
    }
   ],
   "source": [
    "light(0.04, X, a_b, a_w, dz)\n"
   ]
  },
  {
   "cell_type": "code",
   "execution_count": 27,
   "metadata": {
    "ExecuteTime": {
     "end_time": "2020-12-15T09:30:50.015281Z",
     "start_time": "2020-12-15T09:30:50.002738Z"
    }
   },
   "outputs": [
    {
     "data": {
      "text/plain": [
       "0.0424424"
      ]
     },
     "execution_count": 27,
     "metadata": {},
     "output_type": "execute_result"
    }
   ],
   "source": [
    "40.04*light_growth_yield\n"
   ]
  },
  {
   "cell_type": "code",
   "execution_count": 28,
   "metadata": {
    "ExecuteTime": {
     "end_time": "2020-12-15T09:30:50.031886Z",
     "start_time": "2020-12-15T09:30:50.019305Z"
    }
   },
   "outputs": [],
   "source": [
    "def MM(Vmax, Km, concentration):\n",
    "    return Vmax*(concentration)/(Km + concentration)\n"
   ]
  },
  {
   "cell_type": "code",
   "execution_count": 29,
   "metadata": {
    "ExecuteTime": {
     "end_time": "2020-12-15T09:30:50.048961Z",
     "start_time": "2020-12-15T09:30:50.036398Z"
    }
   },
   "outputs": [
    {
     "data": {
      "text/plain": [
       "0.18367346938775514"
      ]
     },
     "execution_count": 29,
     "metadata": {},
     "output_type": "execute_result"
    }
   ],
   "source": [
    "MM(0.9,0.39,0.1)\n"
   ]
  },
  {
   "cell_type": "markdown",
   "metadata": {},
   "source": [
    "# Real ammonium concentrations"
   ]
  },
  {
   "cell_type": "code",
   "execution_count": 30,
   "metadata": {
    "ExecuteTime": {
     "end_time": "2020-12-15T09:30:50.065510Z",
     "start_time": "2020-12-15T09:30:50.048961Z"
    }
   },
   "outputs": [],
   "source": [
    "# http://www.aari.ru/docs/pub/060922/ree06.pdf\n",
    "# ammonium in the atlantic ocean\n",
    "nh4_conc = 0.109# uMol +-0.15 uMol\n"
   ]
  },
  {
   "cell_type": "code",
   "execution_count": 31,
   "metadata": {
    "ExecuteTime": {
     "end_time": "2020-12-15T09:30:50.098696Z",
     "start_time": "2020-12-15T09:30:50.069533Z"
    }
   },
   "outputs": [],
   "source": [
    "Vmax = np.arange(0, 1.2, 0.1) # mmol \n",
    "Km = np.logspace(-4,0.1, 41)\n",
    "growth_rate_Nlim = np.zeros((len(Vmax), len(Km)))\n",
    "growth_rate_Nabund = np.zeros((len(Vmax), len(Km)))\n",
    "growth_rate_Natlantic = np.zeros((len(Vmax), len(Km)))\n",
    "max_growth = 0.0997\n",
    "with model:\n",
    "    for i, vi in enumerate(Vmax):\n",
    "        for j, kj in enumerate(Km):\n",
    "            growth_rate_Nlim[i,j] = MM(vi, kj, 0.1)*N_growth_yield\n",
    "            growth_rate_Nabund[i,j] = MM(vi, kj, 0.8)*N_growth_yield\n",
    "            growth_rate_Natlantic[i,j] = MM(vi, kj, 0.109*1e-3)*N_growth_yield\n",
    "            \n",
    "light_Nlim = growth_rate_Nlim/light_growth_yield\n",
    "light_Nabund = growth_rate_Nabund/light_growth_yield\n",
    "light_Natlantic = growth_rate_Natlantic/light_growth_yield\n"
   ]
  },
  {
   "cell_type": "code",
   "execution_count": 20,
   "metadata": {
    "ExecuteTime": {
     "end_time": "2020-12-15T09:30:50.791511Z",
     "start_time": "2020-12-15T09:30:50.098696Z"
    }
   },
   "outputs": [
    {
     "data": {
      "image/png": "[encoded data removed]",
      "text/plain": [
       "<Figure size 432x288 with 4 Axes>"
      ]
     },
     "metadata": {
      "needs_background": "light"
     },
     "output_type": "display_data"
    }
   ],
   "source": [
    "xx, yy = np.meshgrid(Km, Vmax)\n",
    "fig, [ax1,ax2, ax3] = plt.subplots(1,3, sharex = True)\n",
    "a = ax1.contourf(xx,yy, growth_rate_Nabund, levels = [0, 0.042,1], alpha = 0.3, cmap = \"Set1\")\n",
    "ax1.set_xscale(\"log\")\n",
    "ax2.contourf(xx,yy, growth_rate_Nlim, levels = [0, 0.042,1], alpha = 0.3, cmap = \"Set1\")\n",
    "#ax2.set_xscale(\"log\")\n",
    "ax3.contourf(xx,yy, growth_rate_Natlantic, levels = [0, 0.042,1], alpha = 0.3, cmap = \"Set1\")\n",
    "#ax3.set_xscale(\"log\")\n",
    "\n",
    "\n",
    "ax1.scatter(0.35*1e-3, 0.179)\n",
    "ax2.scatter(0.35*1e-3, 0.179)\n",
    "ax1.scatter(0.39, 0.9, color = \"r\")\n",
    "ax2.scatter(0.39, 0.9, color = \"r\")\n",
    "ax1.scatter(0.35*1e-3, 0.66, color = \"g\")\n",
    "ax2.scatter(0.35*1e-3, 0.66, color = \"g\")\n",
    "ax1.set_xlabel(\"Km [mM]\")\n",
    "ax2.set_xlabel(\"Km [mM]\")\n",
    "ax1.set_ylabel(\"Vmax [mmol/gDW/h]\")\n",
    "ax2.set_title(\"Nitrogen limited\")\n",
    "ax1.set_title(\"Nitrogen abundant\")\n",
    "\n",
    "cbar = plt.colorbar(a)\n",
    "#CS = plt.contour(xx,yy, growth_rate*24, levels = [0.04*24], colors = 'r')\n"
   ]
  },
  {
   "cell_type": "code",
   "execution_count": 36,
   "metadata": {
    "ExecuteTime": {
     "end_time": "2020-12-15T09:36:55.387623Z",
     "start_time": "2020-12-15T09:36:54.452187Z"
    }
   },
   "outputs": [
    {
     "data": {
      "image/png": "[encoded data removed]",
      "text/plain": [
       "<Figure size 864x576 with 4 Axes>"
      ]
     },
     "metadata": {
      "needs_background": "light"
     },
     "output_type": "display_data"
    }
   ],
   "source": [
    "xx, yy = np.meshgrid(Km, Vmax)\n",
    "fig, [ax1,ax2, ax3] = plt.subplots(1,3, sharex = True, figsize = (12, 8))\n",
    "CS1 = ax1.contour(xx,yy, light_Nabund, levels = [0.1,1, 10, 40, 80], alpha = 1, colors = \"k\", linewidths = 2)\n",
    "ax1.set_xscale(\"log\")\n",
    "CS2 = ax2.contour(xx,yy, light_Nlim, levels = [0.1,1, 10, 40, 80], alpha = 1, cmap = \"autumn\", linewidths = 4)\n",
    "CS3 = ax3.contour(xx,yy, light_Natlantic, levels = [0.1,1, 10, 40, 80], alpha = 1, cmap = \"autumn\", linewidths = 4)\n",
    "ax1.clabel(CS1, inline = 1, fontsize = 10,  fmt='%1.1f')\n",
    "ax2.clabel(CS2, inline = 1, fontsize = 10,  fmt='%1.1f')\n",
    "ax3.clabel(CS3, inline = 1, fontsize = 10,  fmt='%1.1f')\n",
    "ax1.scatter(0.35*1e-3, 0.179, zorder = 3)\n",
    "ax2.scatter(0.35*1e-3, 0.179, zorder = 3)\n",
    "ax3.scatter(0.35*1e-3, 0.179, zorder = 3)\n",
    "ax1.scatter(0.39, 0.9, color = \"r\", zorder = 3)\n",
    "ax2.scatter(0.39, 0.9, color = \"r\", zorder = 3)\n",
    "ax3.scatter(0.39, 0.9, color = \"r\", zorder = 3)\n",
    "ax1.scatter(0.35*1e-3, 0.66, color = \"g\", zorder = 3)\n",
    "ax2.scatter(0.35*1e-3, 0.66, color = \"g\", zorder = 3)\n",
    "ax3.scatter(0.35*1e-3, 0.66, color = \"g\", zorder = 3)\n",
    "ax1.set_xlabel(\"Km [mM]\")\n",
    "ax2.set_xlabel(\"Km [mM]\")\n",
    "ax1.set_ylabel(\"Vmax [mmol/gDW/h]\")\n",
    "ax2.set_title(\"Nitrogen limited\")\n",
    "ax3.set_title(\"[NH4+] = 0.01 $\\mu$Mol\")\n",
    "ax1.set_title(\"Nitrogen abundant\")\n",
    "fig.subplots_adjust(right=0.8)\n",
    "cbar_ax = fig.add_axes([0.85, 0.15, 0.02, 0.7])\n",
    "cbar = fig.colorbar(CS1, cax=cbar_ax)\n",
    "cbar.set_label('mmol Q/m$^2$/s')\n"
   ]
  },
  {
   "cell_type": "code",
   "execution_count": 22,
   "metadata": {
    "ExecuteTime": {
     "end_time": "2020-12-15T09:30:51.785403Z",
     "start_time": "2020-12-15T09:30:51.769650Z"
    }
   },
   "outputs": [
    {
     "ename": "SyntaxError",
     "evalue": "invalid syntax (<ipython-input-22-6fb9111ac994>, line 4)",
     "output_type": "error",
     "traceback": [
      "\u001b[1;36m  File \u001b[1;32m\"<ipython-input-22-6fb9111ac994>\"\u001b[1;36m, line \u001b[1;32m4\u001b[0m\n\u001b[1;33m    PAR_average =\u001b[0m\n\u001b[1;37m                  ^\u001b[0m\n\u001b[1;31mSyntaxError\u001b[0m\u001b[1;31m:\u001b[0m invalid syntax\n"
     ]
    }
   ],
   "source": [
    "# PAR\n",
    "#https://agupubs.onlinelibrary.wiley.com/doi/full/10.1002/2015GB005139\n",
    "# https://oceancolor.gsfc.nasa.gov/atbd/par/\n",
    "PAR_average = \n"
   ]
  },
  {
   "cell_type": "code",
   "execution_count": null,
   "metadata": {},
   "outputs": [],
   "source": []
  }
 ],
 "metadata": {
  "kernelspec": {
   "display_name": "Python 3",
   "language": "python",
   "name": "python3"
  },
  "language_info": {
   "codemirror_mode": {
    "name": "ipython",
    "version": 3
   },
   "file_extension": ".py",
   "mimetype": "text/x-python",
   "name": "python",
   "nbconvert_exporter": "python",
   "pygments_lexer": "ipython3",
   "version": "3.11.7"
  }
 },
 "nbformat": 4,
 "nbformat_minor": 2
}
